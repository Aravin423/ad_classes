{
  "nbformat": 4,
  "nbformat_minor": 0,
  "metadata": {
    "colab": {
      "provenance": [],
      "authorship_tag": "ABX9TyNNMFY8/H++wGC1wyfZ1V0v",
      "include_colab_link": true
    },
    "kernelspec": {
      "name": "python3",
      "display_name": "Python 3"
    },
    "language_info": {
      "name": "python"
    }
  },
  "cells": [
    {
      "cell_type": "markdown",
      "metadata": {
        "id": "view-in-github",
        "colab_type": "text"
      },
      "source": [
        "<a href=\"https://colab.research.google.com/github/Aravin423/ad_classes/blob/main/AD_28.ipynb\" target=\"_parent\"><img src=\"https://colab.research.google.com/assets/colab-badge.svg\" alt=\"Open In Colab\"/></a>"
      ]
    },
    {
      "cell_type": "code",
      "execution_count": 4,
      "metadata": {
        "colab": {
          "base_uri": "https://localhost:8080/"
        },
        "id": "UN4VzsZZl_03",
        "outputId": "43242ed4-4b55-4fd5-f306-af3f72099ef5"
      },
      "outputs": [
        {
          "output_type": "stream",
          "name": "stdout",
          "text": [
            "Original DataFrame:\n",
            "   customer_id gender         city  fruits\n",
            "0            1      M     New York   apple\n",
            "1            2      F  Los Angeles  banana\n",
            "2            3      M      Chicago  orange\n",
            "3            4      F      Houston   apple\n",
            "4            5      M        Miami  banana\n",
            "\n",
            "DataFrame after One-Hot Encoding:\n",
            "   customer_id  gender_F  gender_M  city_Chicago  city_Houston  \\\n",
            "0            1       0.0       1.0           0.0           0.0   \n",
            "1            2       1.0       0.0           0.0           0.0   \n",
            "2            3       0.0       1.0           1.0           0.0   \n",
            "3            4       1.0       0.0           0.0           1.0   \n",
            "4            5       0.0       1.0           0.0           0.0   \n",
            "\n",
            "   city_Los Angeles  city_Miami  city_New York  fruits_apple  fruits_banana  \\\n",
            "0               0.0         0.0            1.0           1.0            0.0   \n",
            "1               1.0         0.0            0.0           0.0            1.0   \n",
            "2               0.0         0.0            0.0           0.0            0.0   \n",
            "3               0.0         0.0            0.0           1.0            0.0   \n",
            "4               0.0         1.0            0.0           0.0            1.0   \n",
            "\n",
            "   fruits_orange  \n",
            "0            0.0  \n",
            "1            0.0  \n",
            "2            1.0  \n",
            "3            0.0  \n",
            "4            0.0  \n",
            "Original DataFrame:\n",
            "   customer_id gender         city  fruits\n",
            "0            1      M     New York   apple\n",
            "1            2      F  Los Angeles  banana\n",
            "2            3      M      Chicago  orange\n",
            "3            4      F      Houston   apple\n",
            "4            5      M        Miami  banana\n",
            "\n",
            "DataFrame after One-Hot Encoding:\n",
            "   customer_id  gender_F  gender_M  city_Chicago  city_Houston  \\\n",
            "0            1       0.0       1.0           0.0           0.0   \n",
            "1            2       1.0       0.0           0.0           0.0   \n",
            "2            3       0.0       1.0           1.0           0.0   \n",
            "3            4       1.0       0.0           0.0           1.0   \n",
            "4            5       0.0       1.0           0.0           0.0   \n",
            "\n",
            "   city_Los Angeles  city_Miami  city_New York  fruits_apple  fruits_banana  \\\n",
            "0               0.0         0.0            1.0           1.0            0.0   \n",
            "1               1.0         0.0            0.0           0.0            1.0   \n",
            "2               0.0         0.0            0.0           0.0            0.0   \n",
            "3               0.0         0.0            0.0           1.0            0.0   \n",
            "4               0.0         1.0            0.0           0.0            1.0   \n",
            "\n",
            "   fruits_orange  \n",
            "0            0.0  \n",
            "1            0.0  \n",
            "2            1.0  \n",
            "3            0.0  \n",
            "4            0.0  \n"
          ]
        }
      ],
      "source": [
        "import pandas as pd\n",
        "from sklearn.preprocessing import OneHotEncoder\n",
        "\n",
        "data = {\n",
        "    \"customer_id\": [1, 2, 3, 4, 5],\n",
        "    \"gender\": [\"M\", \"F\", \"M\", \"F\", \"M\"],\n",
        "    \"city\": [\"New York\", \"Los Angeles\", \"Chicago\", \"Houston\", \"Miami\"],\n",
        "    \"fruits\": [\"apple\", \"banana\", \"orange\", \"apple\", \"banana\"]\n",
        "}\n",
        "\n",
        "df = pd.DataFrame(data)\n",
        "\n",
        "print(\"Original DataFrame:\")\n",
        "print(df)\n",
        "\n",
        "one_hot_encoder = OneHotEncoder(sparse_output=False, handle_unknown='ignore')\n",
        "\n",
        "columns_to_encode = [\"gender\", \"city\", \"fruits\"]\n",
        "\n",
        "encoded_data = one_hot_encoder.fit_transform(df[columns_to_encode])\n",
        "\n",
        "encoded_df = pd.DataFrame(encoded_data, columns=one_hot_encoder.get_feature_names_out(columns_to_encode))\n",
        "\n",
        "df = pd.concat([df, encoded_df], axis=1)\n",
        "\n",
        "df = df.drop(columns=columns_to_encode)\n",
        "\n",
        "print(\"\\nDataFrame after One-Hot Encoding:\")\n",
        "print(df)\n",
        "\n",
        "df = pd.DataFrame(data)\n",
        "\n",
        "print(\"Original DataFrame:\")\n",
        "print(df)\n",
        "\n",
        "one_hot_encoder = OneHotEncoder(sparse_output=False)\n",
        "\n",
        "columns_to_encode = [\"gender\", \"city\", \"fruits\"]\n",
        "\n",
        "encoded_data = one_hot_encoder.fit_transform(df[columns_to_encode])\n",
        "\n",
        "encoded_df = pd.DataFrame(encoded_data, columns=one_hot_encoder.get_feature_names_out(columns_to_encode))\n",
        "\n",
        "df = pd.concat([df, encoded_df], axis=1)\n",
        "\n",
        "df = df.drop(columns=columns_to_encode)\n",
        "\n",
        "print(\"\\nDataFrame after One-Hot Encoding:\")\n",
        "print(df)\n"
      ]
    }
  ]
}