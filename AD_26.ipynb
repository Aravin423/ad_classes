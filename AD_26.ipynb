{
  "nbformat": 4,
  "nbformat_minor": 0,
  "metadata": {
    "colab": {
      "provenance": [],
      "authorship_tag": "ABX9TyOfMntWM0SUEU38ek5pm/U4",
      "include_colab_link": true
    },
    "kernelspec": {
      "name": "python3",
      "display_name": "Python 3"
    },
    "language_info": {
      "name": "python"
    }
  },
  "cells": [
    {
      "cell_type": "markdown",
      "metadata": {
        "id": "view-in-github",
        "colab_type": "text"
      },
      "source": [
        "<a href=\"https://colab.research.google.com/github/Aravin423/ad_classes/blob/main/AD_26.ipynb\" target=\"_parent\"><img src=\"https://colab.research.google.com/assets/colab-badge.svg\" alt=\"Open In Colab\"/></a>"
      ]
    },
    {
      "cell_type": "code",
      "source": [
        "import pandas as pd\n",
        "from sklearn.preprocessing import MinMaxScaler\n",
        "\n",
        "data ={\n",
        "    \"age\":[25,30,45,60,35],\n",
        "    \"height\":[150,160,170,180,190],\n",
        "    \"weight\":[50,60,70,80,90],\n",
        "}\n",
        "\n",
        "df = pd.DataFrame(data)\n",
        "print(df)\n"
      ],
      "metadata": {
        "colab": {
          "base_uri": "https://localhost:8080/"
        },
        "id": "IMqjgdJckYK0",
        "outputId": "fe8e9704-f879-44dc-8c32-71557ce5a65a"
      },
      "execution_count": null,
      "outputs": [
        {
          "output_type": "stream",
          "name": "stdout",
          "text": [
            "   age  height  weight\n",
            "0   25     150      50\n",
            "1   30     160      60\n",
            "2   45     170      70\n",
            "3   60     180      80\n",
            "4   35     190      90\n"
          ]
        }
      ]
    },
    {
      "cell_type": "code",
      "source": [
        "import pandas as pd\n",
        "from sklearn.preprocessing import MinMaxScaler\n",
        "\n",
        "data ={\n",
        "    \"age\":[25,30,45,60,35],\n",
        "    \"height\":[150,160,170,180,190],\n",
        "    \"weight\":[50,60,70,80,90],\n",
        "}\n",
        "\n",
        "df=pd.DataFrame(data)\n",
        "\n",
        "print(\"Original DataFrame\")\n",
        "print(df)\n",
        "\n",
        "scaler = MinMaxScaler()\n",
        "\n",
        "normalized_data = scaler.fit_transform(df)\n",
        "\n",
        "normalized_df = pd.DataFrame(normalized_data, columns=df.columns)\n",
        "\n",
        "print(\"\\nNormalized DataFrame (scaled to range [0,1]):\")\n",
        "print(normalized_df)"
      ],
      "metadata": {
        "colab": {
          "base_uri": "https://localhost:8080/"
        },
        "id": "uT1QA3v4lOlQ",
        "outputId": "a4f4ddd2-0c22-466b-d24a-1e99e26bfcbd"
      },
      "execution_count": null,
      "outputs": [
        {
          "output_type": "stream",
          "name": "stdout",
          "text": [
            "Original DataFrame\n",
            "   age  height  weight\n",
            "0   25     150      50\n",
            "1   30     160      60\n",
            "2   45     170      70\n",
            "3   60     180      80\n",
            "4   35     190      90\n",
            "\n",
            "Normalized DataFrame (scaled to range [0,1]):\n",
            "        age  height  weight\n",
            "0  0.000000    0.00    0.00\n",
            "1  0.142857    0.25    0.25\n",
            "2  0.571429    0.50    0.50\n",
            "3  1.000000    0.75    0.75\n",
            "4  0.285714    1.00    1.00\n"
          ]
        }
      ]
    },
    {
      "cell_type": "code",
      "source": [
        "import pandas as pd\n",
        "from sklearn.preprocessing import StandardScaler\n",
        "\n",
        "data ={\n",
        "    \"age\":[25,30,45,60,35],\n",
        "    \"height\":[150,160,170,180,190],\n",
        "    \"weight\":[50,60,70,80,90],\n",
        "}\n",
        "\n",
        "df=pd.DataFrame(data)\n",
        "\n",
        "print(\"Original DataFrame\")\n",
        "print(df)\n",
        "\n",
        "scaler = StandardScaler()\n",
        "\n",
        "StandardScaler_data = scaler.fit_transform(df)\n",
        "\n",
        "StandardScaler_df = pd.DataFrame(StandardScaler_data, columns=df.columns)\n",
        "\n",
        "print(\"\\nStandardScaler DataFrame (scaled to range [0,1]):\")\n",
        "\n",
        "print(StandardScaler_df)"
      ],
      "metadata": {
        "colab": {
          "base_uri": "https://localhost:8080/"
        },
        "id": "Fh1xTXMPm3iD",
        "outputId": "ae802f76-99fe-4a75-af56-617fdb133faa"
      },
      "execution_count": null,
      "outputs": [
        {
          "output_type": "stream",
          "name": "stdout",
          "text": [
            "Original DataFrame\n",
            "   age  height  weight\n",
            "0   25     150      50\n",
            "1   30     160      60\n",
            "2   45     170      70\n",
            "3   60     180      80\n",
            "4   35     190      90\n",
            "\n",
            "StandardScaler DataFrame (scaled to range [0,1]):\n",
            "        age    height    weight\n",
            "0 -1.128152 -1.414214 -1.414214\n",
            "1 -0.725241 -0.707107 -0.707107\n",
            "2  0.483494  0.000000  0.000000\n",
            "3  1.692228  0.707107  0.707107\n",
            "4 -0.322329  1.414214  1.414214\n"
          ]
        }
      ]
    }
  ]
}